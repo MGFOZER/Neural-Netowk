{
 "cells": [
  {
   "cell_type": "code",
   "execution_count": null,
   "id": "d18ae0b1",
   "metadata": {},
   "outputs": [],
   "source": [
    "#This is the file where you will create a Neural Network by giving a csv file as a input or by giving a input by hand\n",
    "\n",
    "def BPNetwork(data = X,target = T, hlayers = H):\n",
    "    # X is the dataframe or a single vector of input variables/neurons\n",
    "    # T is the target output that we want to algorithm to actually predict\n",
    "    # H is the number of hidden layers this algorithm will have\n",
    "    \n",
    "    # a is used to find the number of input neurons in our network\n",
    "    a = len(X.iloc[1,:])\n",
    "    \n",
    "    b = [1]*len(X)\n",
    "    \n",
    "    X['b'] = b\n",
    "    \n",
    "    # c is used to create a list of number on hidden neurons in our hidden layers\n",
    "    c = []\n",
    "    for i in range(H):\n",
    "        print('For the hidden layer number',i+1)\n",
    "        a = int(input('Enter the number of hidden neurons: '))\n",
    "        c.append(a)\n",
    "    d = str(input('Do you want to give the weights (y/n): '))\n",
    "    \n",
    "    e = str(input('Enter TYPE if you want to type the weights or GIVE if you want to give a list of weights: '))\n",
    "    \n",
    "    if d == 'y':\n",
    "        if e == 'TYPE' or e == 'type' or e == 'Type':\n",
    "        global Xw = []\n",
    "        for i in range(c[0]):\n",
    "            o = []\n",
    "            for j in range(a):\n",
    "                a = float(input('Enter the weight of the input-hidden neuron: '))\n",
    "                o.append(a)\n",
    "            o.append(1)\n",
    "        #For adding the weights in the hidden and hidden layer if any\n",
    "            if len(c) >= 2:\n",
    "                for i in range(len(c)):\n",
    "                    for j in range(i):\n",
    "        elif e == 'Give' or e == 'give' or e == 'GIVE':\n",
    "            Xw = [float(item) for item in input(\"Enter the list items : \").split()]\n",
    "                        \n",
    "                \n",
    "    else:\n",
    "        #write the code so that all the weights are zero\n",
    "        \n",
    "        \n",
    "    \n",
    "    "
   ]
  },
  {
   "cell_type": "code",
   "execution_count": 4,
   "id": "d71df9ee",
   "metadata": {},
   "outputs": [
    {
     "name": "stdout",
     "output_type": "stream",
     "text": [
      "Enter the list items : 3 4 5 9 10 2.3 56.33 20.59\n"
     ]
    }
   ],
   "source": [
    "Xw = [float(item) for item in input(\"Enter the list items : \").split()]"
   ]
  },
  {
   "cell_type": "code",
   "execution_count": 5,
   "id": "3aec594a",
   "metadata": {},
   "outputs": [
    {
     "name": "stdout",
     "output_type": "stream",
     "text": [
      "[3.0, 4.0, 5.0, 9.0, 10.0, 2.3, 56.33, 20.59]\n"
     ]
    }
   ],
   "source": [
    "print(Xw)"
   ]
  }
 ],
 "metadata": {
  "kernelspec": {
   "display_name": "Python 3 (ipykernel)",
   "language": "python",
   "name": "python3"
  },
  "language_info": {
   "codemirror_mode": {
    "name": "ipython",
    "version": 3
   },
   "file_extension": ".py",
   "mimetype": "text/x-python",
   "name": "python",
   "nbconvert_exporter": "python",
   "pygments_lexer": "ipython3",
   "version": "3.9.12"
  }
 },
 "nbformat": 4,
 "nbformat_minor": 5
}
